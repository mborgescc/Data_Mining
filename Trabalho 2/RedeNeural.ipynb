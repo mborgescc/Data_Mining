{
 "cells": [
  {
   "cell_type": "code",
   "execution_count": 28,
   "metadata": {
    "collapsed": false,
    "deletable": true,
    "editable": true
   },
   "outputs": [],
   "source": [
    "import numpy as np\n",
    "\n",
    "\n",
    "class NeuralNetwork:\n",
    "    \n",
    "    def __init__(self, eta, numrounds, hidden_nodes):\n",
    "        self.numrounds = numrounds #number of training times\n",
    "        self.eta = eta #learning rate\n",
    "        self.hidden_nodes = hidden_nodes #number of hidden nodes\n",
    "        \n",
    "    def fit(self, X, y):\n",
    "        cols = len(X[0])\n",
    "        \n",
    "        # (3 x hidden_nodes) matrix of weights ((2 inputs + 1 bias) x nodes in the hidden layer)\n",
    "        self.syn0 = 2*np.random.random((cols, self.hidden_nodes)) - 1\n",
    "        \n",
    "        # (hidden_nodes x 1) matrix of weights. (number_of_hidden_nodes x 1 output) - no bias term in the hidden layer.\n",
    "        self.syn1 = 2*np.random.random((self.hidden_nodes, 1)) - 1\n",
    "        \n",
    "        for i in xrange(self.numrounds):\n",
    "            l0 = X\n",
    "            l1 = self.logistic(np.dot(l0, self.syn0))\n",
    "            l2 = self.logistic(np.dot(l1, self.syn1))\n",
    "\n",
    "            l2_error = y - l2\n",
    "            l2_delta = l2_error*self.logistic(np.dot(l1, self.syn1), True)\n",
    "            l1_error = l2_delta.dot(self.syn1.T)\n",
    "            l1_delta = l1_error*self.logistic(np.dot(l0, self.syn0), True)\n",
    "\n",
    "            self.syn1 += self.eta*l1.T.dot(l2_delta)\n",
    "            self.syn0 += self.eta*l0.T.dot(l1_delta)\n",
    "        \n",
    "        #print \"Output after training\"\n",
    "        #print l2\n",
    "        \n",
    "        #fit não deve possuir retorno.\n",
    "        '''\n",
    "        o fit deve descobrir a dimensão do problema\n",
    "        e o número de classes.\n",
    "        '''\n",
    "                \n",
    "    def predict(self, X):\n",
    "        y = []\n",
    "        for x in X:\n",
    "            l0 = X\n",
    "            l1 = self.logistic(np.dot(l0, self.syn0))\n",
    "            l2 = self.logistic(np.dot(l1, self.syn1))\n",
    "            y.append(l2)\n",
    "        return y\n",
    "        \n",
    "    def logistic(self, x, deriv=False):  # Note: there is a typo on this line in the video\n",
    "        if(deriv==True):\n",
    "            return self.logistic(x)*(1-self.logistic(x))\n",
    "\n",
    "        return 1/(1+np.exp(-x))  # Note: there is a typo on this line in the video\n"
   ]
  },
  {
   "cell_type": "code",
   "execution_count": 29,
   "metadata": {
    "collapsed": false,
    "deletable": true,
    "editable": true
   },
   "outputs": [],
   "source": [
    "X = np.array([\n",
    "    [0,0,1],  \n",
    "    [0,1,1],\n",
    "    [1,0,1],\n",
    "    [1,1,1],\n",
    "])\n",
    "\n",
    "\n",
    "# The output of the exclusive OR function follows. \n",
    "\n",
    "#output data\n",
    "y = np.array([\n",
    "    [0],\n",
    "    [1],\n",
    "    [1],\n",
    "    [0],\n",
    "])"
   ]
  },
  {
   "cell_type": "code",
   "execution_count": 30,
   "metadata": {
    "collapsed": true,
    "deletable": true,
    "editable": true
   },
   "outputs": [],
   "source": [
    "nn = NeuralNetwork(0.01, 120000, 4)"
   ]
  },
  {
   "cell_type": "code",
   "execution_count": 31,
   "metadata": {
    "collapsed": false,
    "deletable": true,
    "editable": true
   },
   "outputs": [],
   "source": [
    "nn.fit(X, y)"
   ]
  },
  {
   "cell_type": "code",
   "execution_count": 32,
   "metadata": {
    "collapsed": false,
    "deletable": true,
    "editable": true
   },
   "outputs": [
    {
     "name": "stdout",
     "output_type": "stream",
     "text": [
      "[array([[ 0.95638818]])]\n"
     ]
    }
   ],
   "source": [
    "new_X = np.array([\n",
    "    [0, 1, 1],\n",
    "])\n",
    "\n",
    "result = nn.predict(new_X)\n",
    "print result"
   ]
  },
  {
   "cell_type": "code",
   "execution_count": null,
   "metadata": {
    "collapsed": true
   },
   "outputs": [],
   "source": []
  }
 ],
 "metadata": {
  "kernelspec": {
   "display_name": "Python 2",
   "language": "python",
   "name": "python2"
  },
  "language_info": {
   "codemirror_mode": {
    "name": "ipython",
    "version": 2
   },
   "file_extension": ".py",
   "mimetype": "text/x-python",
   "name": "python",
   "nbconvert_exporter": "python",
   "pygments_lexer": "ipython2",
   "version": "2.7.13"
  }
 },
 "nbformat": 4,
 "nbformat_minor": 2
}
