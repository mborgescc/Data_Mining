{
 "cells": [
  {
   "cell_type": "code",
   "execution_count": 15,
   "metadata": {},
   "outputs": [
    {
     "name": "stdout",
     "output_type": "stream",
     "text": [
      "Dados de treino:  60020\n",
      "Total de dados:  76020\n"
     ]
    }
   ],
   "source": [
    "import csv\n",
    "import numpy as np\n",
    "from sklearn.tree import DecisionTreeClassifier\n",
    "from sklearn.metrics import roc_auc_score\n",
    "from sklearn.model_selection import KFold\n",
    "import xgboost as xgb\n",
    "\n",
    "target = []\n",
    "data = []\n",
    "\n",
    "f = open(r'new_train.csv')\n",
    "for line in f:        \n",
    "    vec = line.split(\",\")    \n",
    "    try:\n",
    "        target.append(int(vec[-1]))\n",
    "        data.append(vec[:-1])\n",
    "    except:\n",
    "        pass\n",
    "f.close()\n",
    "\n",
    "totaltreino = len(target)\n",
    "\n",
    "print(\"Dados de treino: \", totaltreino)\n",
    "\n",
    "f = open(r'test.csv')\n",
    "for line in f:        \n",
    "    vec = line.split(\",\")    \n",
    "    try:        \n",
    "        data.append(vec)\n",
    "    except:\n",
    "        pass\n",
    "f.close()\n",
    "\n",
    "data = np.array(data, dtype=np.float64)\n",
    "    \n",
    "print(\"Total de dados: \", len(data))"
   ]
  },
  {
   "cell_type": "code",
   "execution_count": 16,
   "metadata": {},
   "outputs": [],
   "source": [
    "def analiseColuna(matriz, col):\n",
    "    valores = []\n",
    "    contagem = []\n",
    "    for i in range(len(matriz)):\n",
    "        if not matriz[i][col] in valores: #novo valor\n",
    "            valores.append(matriz[i][col])\n",
    "            contagem.append(1)\n",
    "        else: #valor ja existe, aumento a contagem\n",
    "            contagem[valores.index(matriz[i][col])] += 1\n",
    "    return valores,contagem\n",
    "\n",
    "def colunasIguais(matriz, col1, col2):\n",
    "    for i in range(len(matriz)):\n",
    "        if(matriz[i][col1] != matriz[i][col2]):            \n",
    "            return False\n",
    "    return True\n",
    "\n",
    "def colunaZerada(matriz, col):\n",
    "    for i in range(len(matriz)):\n",
    "        if(matriz[i][col] != 0.):            \n",
    "            return False\n",
    "    return True\n",
    "\n",
    "def oneHot(rawData):\n",
    "    array = np.array(rawData)\n",
    "    keys = []\n",
    "    for i in range(len(array.T)):\n",
    "        conjunto = set(array.T[i])\n",
    "        pos = list(conjunto)\n",
    "        keys += pos\n",
    "\n",
    "    dict_pos = {}\n",
    "    for i in range(len(keys)):\n",
    "        dict_pos[keys[i]] = i\n",
    "\n",
    "    rawdata_tratado = []\n",
    "    for i in range(len(rawData)):\n",
    "        zeros = np.zeros(len(keys))\n",
    "        for k in rawData[i]:\n",
    "            zeros[dict_pos[k]] = 1\n",
    "        rawdata_tratado.append(list(zeros))\n",
    "    return np.array(rawdata_tratado)\n",
    "\n",
    "def saveMatrixToFile(filename, matrix):\n",
    "    with open(filename, \"w\") as f:\n",
    "        writer = csv.writer(f, delimiter = ',', lineterminator='\\n')\n",
    "        writer.writerows(matrix)"
   ]
  },
  {
   "cell_type": "code",
   "execution_count": 17,
   "metadata": {},
   "outputs": [],
   "source": [
    "i=0\n",
    "\n",
    "while i < len(data[0]):\n",
    "    j=0\n",
    "    while j < len(data[0]):\n",
    "        if i==j:\n",
    "            j+=1\n",
    "            continue\n",
    "        if(colunaZerada(data, i)):\n",
    "            data=np.delete(data, [i], axis=1)\n",
    "            i-=1\n",
    "            continue\n",
    "        if(colunasIguais(data, i, j)):\n",
    "            data=np.delete(data, [i], axis=1)            \n",
    "            j-=1\n",
    "        j+=1\n",
    "    i+=1            "
   ]
  },
  {
   "cell_type": "markdown",
   "metadata": {},
   "source": [
    "Colunas iguais em <b>data</b> foram removidas."
   ]
  },
  {
   "cell_type": "code",
   "execution_count": 4,
   "metadata": {},
   "outputs": [
    {
     "name": "stdout",
     "output_type": "stream",
     "text": [
      "925\n"
     ]
    }
   ],
   "source": [
    "for i in range(len(data[0])):\n",
    "    v,c = analiseColuna(data, i)\n",
    "    if len(v) <= 30: #coluna pode sofrer one-hot-encoding\n",
    "        coluna = data[:, i:i+1] #salvo uma cópia da coluna\n",
    "        np.delete(data, [i], axis=1) #removo a coluna do dataset\n",
    "        coluna = oneHot(coluna) #faço o one-hot-encoding da coluna\n",
    "        data = np.concatenate((coluna, data), axis=1) #adiciono a coluna de volta, em one-hot, no dataset\n",
    "print(len(data[0]))"
   ]
  },
  {
   "cell_type": "markdown",
   "metadata": {},
   "source": [
    "Sabemos quais colunas possuem uma quantidade de valores razoáveis para sofrer one-hot-encoding."
   ]
  },
  {
   "cell_type": "code",
   "execution_count": 19,
   "metadata": {},
   "outputs": [],
   "source": [
    "data2 = np.array(data[:totaltreino])\n",
    "target2 = np.array(target)"
   ]
  },
  {
   "cell_type": "code",
   "execution_count": 20,
   "metadata": {},
   "outputs": [
    {
     "name": "stdout",
     "output_type": "stream",
     "text": [
      "Iniciando treino K-fold, k = 10\n",
      "Baseline:  0.03923692102632456\n",
      "mean auc:  0.54746175414\n"
     ]
    }
   ],
   "source": [
    "from sklearn.tree import DecisionTreeClassifier\n",
    "from sklearn.metrics import roc_auc_score\n",
    "from sklearn.model_selection import KFold\n",
    "\n",
    "k = 10\n",
    "\n",
    "print(\"Iniciando treino K-fold, k =\", k)\n",
    "\n",
    "X = data2\n",
    "y = target2\n",
    "\n",
    "kf = KFold(n_splits=k, shuffle = True)\n",
    "print(\"Baseline: \", len(y[y==1])/float(len(y)) )\n",
    "auc = []\n",
    "for train_index, test_index in kf.split(X):\n",
    "    X_train, X_test = X[train_index], X[test_index]\n",
    "    y_train, y_test = y[train_index], y[test_index]\n",
    "    clf = DecisionTreeClassifier()\n",
    "    clf.fit(X_train,y_train)\n",
    "    y_pred = clf.predict(X_test)\n",
    "    score = roc_auc_score(y_pred, y_test)\n",
    "    auc.append(score)\n",
    "print(\"mean auc: \", np.mean(auc))"
   ]
  },
  {
   "cell_type": "code",
   "execution_count": 24,
   "metadata": {},
   "outputs": [
    {
     "name": "stdout",
     "output_type": "stream",
     "text": [
      "   test-auc-mean  test-auc-std  train-auc-mean  train-auc-std\n",
      "0       0.772041      0.010060        0.772522       0.001076\n",
      "1       0.777533      0.011424        0.780812       0.009775\n",
      "2       0.795760      0.012884        0.796964       0.004150\n",
      "3       0.803087      0.014174        0.811104       0.004916\n",
      "4       0.812954      0.013921        0.819313       0.004133\n",
      "5       0.818477      0.014206        0.825514       0.003510\n",
      "6       0.822619      0.013282        0.829571       0.003020\n",
      "7       0.824736      0.013541        0.831877       0.002488\n",
      "8       0.826116      0.013269        0.834306       0.001979\n",
      "9       0.827581      0.013423        0.836427       0.001619\n"
     ]
    }
   ],
   "source": [
    "import xgboost as xgb\n",
    "\n",
    "dtrain = xgb.DMatrix(data2, target2)\n",
    "param = {'max_depth':2, 'eta':1, 'silent':0, 'objective':'binary:logistic'}\n",
    "res = xgb.cv(param, dtrain, metrics={'auc'}, nfold=10)\n",
    "\n",
    "print(res)"
   ]
  },
  {
   "cell_type": "code",
   "execution_count": null,
   "metadata": {
    "collapsed": true
   },
   "outputs": [],
   "source": []
  }
 ],
 "metadata": {
  "kernelspec": {
   "display_name": "Python 3",
   "language": "python",
   "name": "python3"
  },
  "language_info": {
   "codemirror_mode": {
    "name": "ipython",
    "version": 3
   },
   "file_extension": ".py",
   "mimetype": "text/x-python",
   "name": "python",
   "nbconvert_exporter": "python",
   "pygments_lexer": "ipython3",
   "version": "3.6.1"
  }
 },
 "nbformat": 4,
 "nbformat_minor": 2
}
