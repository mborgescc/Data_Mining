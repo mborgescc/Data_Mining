{
 "cells": [
  {
   "cell_type": "markdown",
   "metadata": {},
   "source": [
    "# Trabalho Final de Datamining\n",
    "## Yuri Lopes e Maurício Júnior"
   ]
  },
  {
   "cell_type": "markdown",
   "metadata": {},
   "source": [
    "# Pré-processamento dos Dados"
   ]
  },
  {
   "cell_type": "code",
   "execution_count": 30,
   "metadata": {},
   "outputs": [],
   "source": [
    "import numpy as np\n",
    "import xgboost as xgb\n",
    "from sklearn.cross_validation import train_test_split\n",
    "from sklearn.metrics import roc_auc_score\n",
    "from sklearn.ensemble import ExtraTreesClassifier\n",
    "from sklearn.feature_selection import SelectFromModel\n",
    "\n",
    "import pandas as pd\n",
    "import matplotlib.pyplot as plt\n",
    "\n",
    "import copy"
   ]
  },
  {
   "cell_type": "markdown",
   "metadata": {},
   "source": [
    "Carregamos os dados de teste e treino.\n",
    "\n",
    "Após isso, removemos as colunas constantes e duplicadas."
   ]
  },
  {
   "cell_type": "code",
   "execution_count": 45,
   "metadata": {},
   "outputs": [],
   "source": [
    "data_train = pd.read_csv(\"new_train.csv\")\n",
    "data_test = pd.read_csv(\"test.csv\")\n",
    "\n",
    "#TODO concatenar dataset de treino e teste para fazer essas verificações para remoção\n",
    "\n",
    "#verificação de colunas constantes\n",
    "list_remove = []\n",
    "for col in data_train.columns:\n",
    "    if data_train[col].std() == 0: #se o desvio padrão da coluna for zero, ela é constante\n",
    "        list_remove.append(col)\n",
    "        \n",
    "#removo as colunas constantes dos datasets\n",
    "data_train.drop(list_remove, axis=1, inplace=True)\n",
    "data_test.drop(list_remove, axis=1, inplace=True)\n",
    "\n",
    "#verificação de colunas duplicadas\n",
    "list_remove = []\n",
    "columns = data_train.columns\n",
    "for i in range(len(columns) - 1):\n",
    "    values = data_train[columns[i]].values\n",
    "    for j in range(i+1, len(columns)):\n",
    "        if np.array_equal(values, data_train[columns[j]].values):\n",
    "            list_remove.append(columns[j])\n",
    "\n",
    "data_train.drop(list_remove, axis=1, inplace=True)\n",
    "data_test.drop(list_remove, axis=1, inplace=True)\n",
    "data_test_original = copy.deepcopy(data_test)"
   ]
  },
  {
   "cell_type": "markdown",
   "metadata": {},
   "source": [
    "# Seleção de Features"
   ]
  },
  {
   "cell_type": "markdown",
   "metadata": {},
   "source": [
    "Separamos as features do target. Também dividimos o conjunto dos dados para treino e teste."
   ]
  },
  {
   "cell_type": "code",
   "execution_count": 56,
   "metadata": {},
   "outputs": [
    {
     "name": "stdout",
     "output_type": "stream",
     "text": [
      "X_train:    (48016, 305)\n",
      "X_test:     (12004, 305)\n",
      "data_test:  (16000, 305)\n"
     ]
    }
   ],
   "source": [
    "X = data_train.drop([\"TARGET\"], axis=1)\n",
    "y = data_train.TARGET.values\n",
    "data_test = data_test_original\n",
    "\n",
    "X_train, X_test, y_train, y_test = train_test_split(X, y, test_size=0.20)\n",
    "print(\"X_train:   \", X_train.shape)\n",
    "print(\"X_test:    \", X_test.shape)\n",
    "print(\"data_test: \", data_test.shape)"
   ]
  },
  {
   "cell_type": "markdown",
   "metadata": {},
   "source": [
    "### Importância das Features"
   ]
  },
  {
   "cell_type": "code",
   "execution_count": 57,
   "metadata": {},
   "outputs": [
    {
     "data": {
      "image/png": "[encoded data removed]",
      "text/plain": [
       "<matplotlib.figure.Figure at 0x7f46dd6ea1d0>"
      ]
     },
     "metadata": {},
     "output_type": "display_data"
    }
   ],
   "source": [
    "#Uso um classificador de ensemble ExtraTreesClassifier porque:\n",
    "# This class implements a meta estimator that fits a number of randomized decision trees (a.k.a. extra-trees) on various \n",
    "#  sub-samples of the dataset and use averaging to improve the predictive accuracy and control over-fitting.\n",
    "\n",
    "clf = ExtraTreesClassifier()\n",
    "feature_selector = clf.fit(X_train, y_train)\n",
    "\n",
    "feature_importance = pd.Series(clf.feature_importances_, index=X_train.columns.values).sort_values(ascending=False)\n",
    "feature_importance[:20].plot(kind='bar', title='Importância das features conforme o ExtraTreesClassifier', figsize=(14, 5))\n",
    "plt.ylabel('Score de importância')\n",
    "plt.subplots_adjust(bottom=0.3)\n",
    "plt.show()"
   ]
  },
  {
   "cell_type": "markdown",
   "metadata": {},
   "source": [
    "Fazemos a seleção das features mais importantes e, cortamos nossos dados conforme essas features."
   ]
  },
  {
   "cell_type": "code",
   "execution_count": 58,
   "metadata": {},
   "outputs": [
    {
     "name": "stdout",
     "output_type": "stream",
     "text": [
      "X_train:    (48016, 37)\n",
      "X_test:     (12004, 37)\n",
      "data_test:  (16000, 37)\n"
     ]
    }
   ],
   "source": [
    "sfm = SelectFromModel(feature_selector, prefit=True) #o classifier já foi fitado\n",
    "\n",
    "X_train = sfm.transform(X_train)\n",
    "X_test = sfm.transform(X_test)\n",
    "data_test = sfm.transform(data_test)\n",
    "\n",
    "print(\"X_train:   \", X_train.shape)\n",
    "print(\"X_test:    \", X_test.shape)\n",
    "print(\"data_test: \", data_test.shape)"
   ]
  },
  {
   "cell_type": "markdown",
   "metadata": {},
   "source": [
    "# Treino e Classificação"
   ]
  },
  {
   "cell_type": "code",
   "execution_count": 59,
   "metadata": {},
   "outputs": [
    {
     "name": "stdout",
     "output_type": "stream",
     "text": [
      "AUC:  0.831519639431\n"
     ]
    }
   ],
   "source": [
    "xgbClf = xgb.XGBClassifier(n_estimators=110, nthread=-1, max_depth=4)\n",
    "xgbClf.fit(X_train, y_train, eval_metric=\"auc\", verbose=False, eval_set=[(X_test, y_test)])\n",
    "\n",
    "print(\"AUC: \", roc_auc_score(y_test, xgbClf.predict_proba(X_test)[:, 1]))"
   ]
  },
  {
   "cell_type": "markdown",
   "metadata": {},
   "source": [
    "Salvamos o resultado da classificação do dataset de teste num arquivo."
   ]
  },
  {
   "cell_type": "code",
   "execution_count": 61,
   "metadata": {
    "collapsed": true
   },
   "outputs": [],
   "source": [
    "y_predicted = xgbClf.predict_proba(data_test)[:, 1]\n",
    "np.savetxt('submission.txt', y_predicted, delimiter=',')"
   ]
  },
  {
   "cell_type": "code",
   "execution_count": null,
   "metadata": {
    "collapsed": true
   },
   "outputs": [],
   "source": []
  }
 ],
 "metadata": {
  "kernelspec": {
   "display_name": "Python 3",
   "language": "python",
   "name": "python3"
  },
  "language_info": {
   "codemirror_mode": {
    "name": "ipython",
    "version": 3
   },
   "file_extension": ".py",
   "mimetype": "text/x-python",
   "name": "python",
   "nbconvert_exporter": "python",
   "pygments_lexer": "ipython3",
   "version": "3.6.1"
  }
 },
 "nbformat": 4,
 "nbformat_minor": 2
}
