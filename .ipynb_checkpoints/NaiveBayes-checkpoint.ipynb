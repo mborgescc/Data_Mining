{
 "cells": [
  {
   "cell_type": "code",
   "execution_count": null,
   "metadata": {
    "collapsed": true
   },
   "outputs": [],
   "source": [
    "import numpy as np\n",
    "from sklearn.naive_bayes import MultinomialNB\n",
    "from sklearn.feature_extraction.text import CountVectorizer\n",
    "\n",
    "data = []\n",
    "target = []\n",
    "f = open(\"sentiment_corpus.txt\")\n",
    "\n",
    "for line in f:\n",
    "    vec = line.split(\"\\t\")\n",
    "    target.append(vec[0])\n",
    "    data.append(vec[1])\n",
    "    \n",
    "target = np.array(target)\n",
    "print len(target(target=='0'))/float(len(target))\n",
    "cv = CountVectorizer()\n",
    "X = cv.fit_transform(data).toarray()\n",
    "print"
   ]
  }
 ],
 "metadata": {
  "kernelspec": {
   "display_name": "Python 2",
   "language": "python",
   "name": "python2"
  },
  "language_info": {
   "codemirror_mode": {
    "name": "ipython",
    "version": 2
   },
   "file_extension": ".py",
   "mimetype": "text/x-python",
   "name": "python",
   "nbconvert_exporter": "python",
   "pygments_lexer": "ipython2",
   "version": "2.7.13"
  }
 },
 "nbformat": 4,
 "nbformat_minor": 2
}
