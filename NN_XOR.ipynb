{
 "cells": [
  {
   "cell_type": "code",
   "execution_count": 9,
   "metadata": {
    "collapsed": false,
    "deletable": true,
    "editable": true
   },
   "outputs": [],
   "source": [
    "import numpy as np\n",
    "\n",
    "\n",
    "class NeuralNetwork:\n",
    "    \n",
    "    def __init__(self, eta, numrounds, hidden_nodes):\n",
    "        self.numrounds = numrounds #number of training times\n",
    "        self.eta = eta #learning rate\n",
    "        self.hidden_nodes = hidden_nodes #number of hidden nodes\n",
    "        \n",
    "    def fit(self, X, y):\n",
    "        cols = len(X[0])\n",
    "        lines = len(X)\n",
    "        \n",
    "        self.hiddenLayer = 2*np.random.random((self.hidden_nodes, cols)) - 1 \n",
    "        \n",
    "        #2 possible outputs\n",
    "        self.finalLayer = 2*np.random.random((2, self.hidden_nodes)) - 1\n",
    "        \n",
    "        for i in xrange(self.numrounds):\n",
    "            for j in xrange(lines):\n",
    "                G = []\n",
    "                chi = X[j]\n",
    "                for k in xrange(len(self.hiddenLayer)):\n",
    "                    G.append(self.logistic(np.dot(chi, self.hiddenLayer[k])))\n",
    "                G = np.array(G)  \n",
    "                \n",
    "                y1Hat = self.logistic(np.dot(G, self.finalLayer[0]))\n",
    "                y2Hat = self.logistic(np.dot(G, self.finalLayer[1]))\n",
    "                yHat = np.array([y1Hat, y2Hat])\n",
    "                \n",
    "                #Cálculo para atualização dos pesos da última camada                                                                                \n",
    "                y1 = y[j][0]\n",
    "                nabla_W21_y1Hat = self.logistic(np.dot(G, self.finalLayer[0]), deriv=True)*G\n",
    "                nabla_W21_E1 = -2.*(y1 - y1Hat)*nabla_W21_y1Hat\n",
    "                \n",
    "                y2 = y[j][1]\n",
    "                nabla_W22_y2Hat = self.logistic(np.dot(G, self.finalLayer[1]), deriv=True)*G\n",
    "                nabla_W22_E2= -2.*(y2 - y2Hat)*nabla_W22_y2Hat\n",
    "                                \n",
    "                #Atualização dos pesos da última camada\n",
    "                self.finalLayer[0] = self.finalLayer[0] - self.eta * nabla_W21_E1\n",
    "                self.finalLayer[1] = self.finalLayer[1] - self.eta * nabla_W22_E2\n",
    "                \n",
    "                \n",
    "                #Cálculo para atualização dos pesos da hidden layer                \n",
    "                for k in xrange(len(self.hiddenLayer)):\n",
    "                    nabla_W1k = self.logistic(np.dot(self.hiddenLayer[k], chi), deriv=True)*chi                \n",
    "                    nabla_W1k_GWb_y1 = self.finalLayer[0][k]*nabla_W1k\n",
    "                    nabla_W1k_y1Hat = self.logistic(np.dot(G, self.finalLayer[0]), deriv=True)*nabla_W1k_GWb_y1\n",
    "                               \n",
    "                    nabla_W1k_GWb_y2 = self.finalLayer[1][k]*nabla_W1k\n",
    "                    nabla_W1k_y2Hat = self.logistic(np.dot(G, self.finalLayer[1]), deriv=True)*nabla_W1k_GWb_y2\n",
    "                    \n",
    "                    nabla_W1k_y = np.array([nabla_W1k_y1Hat, nabla_W1k_y2Hat])                                                           \n",
    "                    nabla_W1k_E = -2.*np.dot((y[k]-yHat), nabla_W1k_y)\n",
    "                    \n",
    "                    #Atualização dos pesos da hidden layer\n",
    "                    self.hiddenLayer[k] = self.hiddenLayer[k] - self.eta*nabla_W1k_E                   \n",
    "                        \n",
    "        #print \"Output after training\"\n",
    "        print yHat\n",
    "        \n",
    "        #fit não deve possuir retorno.\n",
    "        '''\n",
    "        o fit deve descobrir a dimensão do problema\n",
    "        e o número de classes.\n",
    "        '''\n",
    "                \n",
    "    def predict(self, X):\n",
    "        lines = len(X)\n",
    "        y = []\n",
    "        for j in xrange(lines):\n",
    "            G = []\n",
    "            chi = np.array(X[j])\n",
    "            for k in xrange(len(self.hiddenLayer)):\n",
    "                G.append(self.logistic(np.dot(chi, self.hiddenLayer[k])))\n",
    "            G = np.array(G)  \n",
    "\n",
    "            y1Hat = self.logistic(np.dot(G, self.finalLayer[0]))\n",
    "            y2Hat = self.logistic(np.dot(G, self.finalLayer[1]))\n",
    "            yHat = np.array([y1Hat, y2Hat])\n",
    "            y.append(yHat)\n",
    "            \n",
    "        return np.array(y)\n",
    "        \n",
    "    def logistic(self, x, deriv=False):  # Note: there is a typo on this line in the video\n",
    "        if(deriv==True):\n",
    "            return self.logistic(x)*(1-self.logistic(x))\n",
    "\n",
    "        return 1/(1+np.exp(-x))  # Note: there is a typo on this line in the video"
   ]
  },
  {
   "cell_type": "code",
   "execution_count": 18,
   "metadata": {
    "collapsed": true,
    "deletable": true,
    "editable": true
   },
   "outputs": [],
   "source": [
    "X = np.array([\n",
    "    [0,0, 1],  #appended 1 for b\n",
    "    [0,1, 1],\n",
    "    [1,0, 1],\n",
    "    [1,1, 1],\n",
    "])\n",
    "\n",
    "\n",
    "# The output of the exclusive OR function follows. \n",
    "\n",
    "#output data\n",
    "y = np.array([\n",
    "    [-1, 1], #false\n",
    "    [1, -1], #true\n",
    "    [1, -1], #true\n",
    "    [-1, 1], #false\n",
    "])"
   ]
  },
  {
   "cell_type": "code",
   "execution_count": 16,
   "metadata": {
    "collapsed": false,
    "deletable": true,
    "editable": true
   },
   "outputs": [
    {
     "name": "stdout",
     "output_type": "stream",
     "text": [
      "[ 0.00065307  0.00081731]\n"
     ]
    }
   ],
   "source": [
    "nn = NeuralNetwork(1., 90000, 4)\n",
    "nn.fit(X, y)"
   ]
  },
  {
   "cell_type": "code",
   "execution_count": 17,
   "metadata": {
    "collapsed": false,
    "deletable": true,
    "editable": true
   },
   "outputs": [
    {
     "name": "stdout",
     "output_type": "stream",
     "text": [
      "[[ 0.00062622  0.00079887]\n",
      " [ 0.00064477  0.00081233]\n",
      " [ 0.00063352  0.00080167]\n",
      " [ 0.00065221  0.00081864]]\n"
     ]
    }
   ],
   "source": [
    "yp = nn.predict(X)\n",
    "print yp"
   ]
  },
  {
   "cell_type": "code",
   "execution_count": null,
   "metadata": {
    "collapsed": true,
    "deletable": true,
    "editable": true
   },
   "outputs": [],
   "source": []
  },
  {
   "cell_type": "code",
   "execution_count": null,
   "metadata": {
    "collapsed": true,
    "deletable": true,
    "editable": true
   },
   "outputs": [],
   "source": []
  }
 ],
 "metadata": {
  "kernelspec": {
   "display_name": "Python 2",
   "language": "python",
   "name": "python2"
  },
  "language_info": {
   "codemirror_mode": {
    "name": "ipython",
    "version": 2
   },
   "file_extension": ".py",
   "mimetype": "text/x-python",
   "name": "python",
   "nbconvert_exporter": "python",
   "pygments_lexer": "ipython2",
   "version": "2.7.13"
  }
 },
 "nbformat": 4,
 "nbformat_minor": 2
}
