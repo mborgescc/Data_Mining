{
 "cells": [
  {
   "cell_type": "markdown",
   "metadata": {
    "deletable": true,
    "editable": true
   },
   "source": [
    "<header style=\"text-align: center;\">\n",
    "    <h1 style=\"font-variant: small-caps; padding-bottom: .5em;\">\n",
    "        Trabalho 3 - Yuri Lopes e Maurício Júnior\n",
    "    </h1>\n",
    "</header>\n",
    "<!-- Endliche Differenzmethode -->"
   ]
  },
  {
   "cell_type": "code",
   "execution_count": 1,
   "metadata": {
    "collapsed": false,
    "deletable": true,
    "editable": true
   },
   "outputs": [
    {
     "name": "stdout",
     "output_type": "stream",
     "text": [
      "MNIST loaded\n"
     ]
    }
   ],
   "source": [
    "# Fonte: http://scikit-learn.org/stable/auto_examples/classification/plot_digits_classification.html\n",
    "\n",
    "# Standard scientific Python imports\n",
    "import matplotlib.pyplot as plt\n",
    "\n",
    "# Import datasets and performance metrics\n",
    "from sklearn import datasets, metrics\n",
    "from sklearn.metrics import accuracy_score\n",
    "from sklearn.datasets import fetch_mldata\n",
    "\n",
    "mnist = fetch_mldata(\"MNIST original\")\n",
    "print(\"MNIST loaded\")\n",
    "# rescale the data, use the traditional train/test split\n",
    "X, y = mnist.data / 255., mnist.target\n",
    "X_train, X_test = X[:60000], X[60000:]\n",
    "y_train, y_test = y[:60000], y[60000:]\n",
    "\n",
    "class Report:\n",
    "    \n",
    "    @staticmethod\n",
    "    def run(classifier, clfname):\n",
    "        print(clfname)\n",
    "        # We learn the digits on the first half of the digits\n",
    "        classifier.fit(X_train, y_train)\n",
    "\n",
    "        # Now predict the value of the digit on the second half:\n",
    "        expected = y_test\n",
    "        predicted = classifier.predict(X_test)\n",
    "\n",
    "        accuracy = accuracy_score(predicted, expected)\n",
    "        \n",
    "        print(\"Confusion matrix:\\n%s\" % metrics.confusion_matrix(expected, predicted))\n",
    "        print(\"\\nAccuracy: %s\" % accuracy)"
   ]
  },
  {
   "cell_type": "code",
   "execution_count": 2,
   "metadata": {
    "collapsed": false
   },
   "outputs": [
    {
     "name": "stdout",
     "output_type": "stream",
     "text": [
      "SVM\n",
      "Confusion matrix:\n",
      "[[ 968    0    1    1    0    3    3    2    2    0]\n",
      " [   0 1126    3    0    0    1    3    0    2    0]\n",
      " [   6    1  995    3    2    0    1   14    9    1]\n",
      " [   0    0    3  980    1    7    0   12    7    0]\n",
      " [   0    0   11    0  945    2    4    7    3   10]\n",
      " [   2    0    1   11    2  856    6    5    7    2]\n",
      " [   6    2    1    0    4    8  931    2    4    0]\n",
      " [   1    6   14    2    3    0    0  989    0   13]\n",
      " [   3    0    4    6    6   12    3   10  927    3]\n",
      " [   4    6    4   11   12    2    0   17    3  950]]\n",
      "\n",
      "Accuracy: 0.9667\n"
     ]
    }
   ],
   "source": [
    "# Import classifier\n",
    "from sklearn import svm\n",
    "from sklearn.preprocessing import StandardScaler\n",
    "\n",
    "sc = StandardScaler()\n",
    "\n",
    "X, y = mnist.data / 255., mnist.target\n",
    "\n",
    "X = sc.fit_transform(X)\n",
    "\n",
    "X_train, X_test = X[:60000], X[60000:]\n",
    "y_train, y_test = y[:60000], y[60000:]\n",
    "\n",
    "classifier = svm.SVC()\n",
    "Report.run(classifier, \"SVM\")"
   ]
  },
  {
   "cell_type": "code",
   "execution_count": null,
   "metadata": {
    "collapsed": false,
    "deletable": true,
    "editable": true
   },
   "outputs": [],
   "source": [
    "# Import classifier\n",
    "from sklearn.neural_network import MLPClassifier\n",
    "\n",
    "classifier = MLPClassifier(hidden_layer_sizes=(50,), max_iter=40, alpha=1e-4,\n",
    "                    solver='sgd', tol=1e-4, random_state=1,\n",
    "                    learning_rate_init=.1)\n",
    "Report.run(classifier, \"Neural Network\")"
   ]
  },
  {
   "cell_type": "code",
   "execution_count": 2,
   "metadata": {
    "collapsed": false,
    "deletable": true,
    "editable": true
   },
   "outputs": [
    {
     "name": "stdout",
     "output_type": "stream",
     "text": [
      "Decision Tree\n",
      "Confusion matrix:\n",
      "[[ 924    1    8    5    6    9   11    4    6    6]\n",
      " [   0 1090    9    6    1    7    5    3   12    2]\n",
      " [  14   11  875   33   15   18   12   26   21    7]\n",
      " [   8    7   29  859    6   46    2    7   27   19]\n",
      " [   4    5    9    5  862   11   20   10   17   39]\n",
      " [  12    4    0   50   10  752   22    6   20   16]\n",
      " [  19    4   13   11   17   20  852    2   18    2]\n",
      " [   3   11   25   15    6    4    0  928   12   24]\n",
      " [  10    6   25   33   23   27   17   13  794   26]\n",
      " [  13    2   11   17   46   14    5   21   23  857]]\n",
      "\n",
      "Accuracy: 0.8793\n"
     ]
    }
   ],
   "source": [
    "# Import classifier\n",
    "from sklearn.tree import DecisionTreeClassifier\n",
    "\n",
    "classifier = DecisionTreeClassifier()\n",
    "Report.run(classifier, \"Decision Tree\")"
   ]
  },
  {
   "cell_type": "markdown",
   "metadata": {
    "deletable": true,
    "editable": true
   },
   "source": [
    "### Discussão dos Resultados\n",
    "O classificador SVM apresentou melhores resultados em acurácia que os outros dois outros classificadores.\n",
    "\n",
    "O classificador de redes neurais obteve resultado competitivo com SVM e, provavelmente ajustando parâmetros dos dois classificadores poder-se-ia obter resultados ainda melhores. O mesmo vale para árvore de decisão em termos de obter melhores resultados, embora sua acurácia não tenha sido competitiva em relação aos outros dois.\n",
    "\n",
    "Em particular, a árvore de decisão obteve o pior resultado, mas é importante lembrar que esse método é mais rápido, fácil de treinar e interpretar os resultados que redes neurais e SVM. Adaptar a árvore de decisão de maneira incremental ou para novos dados é simples e rápido, já fazer isso para redes neurais pode não trazer bons resultados e talvez exigir mudanças na topologia da rede. Em relação ao SVM, o consumo de memória e tempo de execução do SVM pode crescer muito em relação à árvore de decisão."
   ]
  },
  {
   "cell_type": "code",
   "execution_count": null,
   "metadata": {
    "collapsed": true,
    "deletable": true,
    "editable": true
   },
   "outputs": [],
   "source": []
  }
 ],
 "metadata": {
  "kernelspec": {
   "display_name": "Python 3",
   "language": "python",
   "name": "python3"
  },
  "language_info": {
   "codemirror_mode": {
    "name": "ipython",
    "version": 3
   },
   "file_extension": ".py",
   "mimetype": "text/x-python",
   "name": "python",
   "nbconvert_exporter": "python",
   "pygments_lexer": "ipython3",
   "version": "3.6.0"
  }
 },
 "nbformat": 4,
 "nbformat_minor": 2
}
