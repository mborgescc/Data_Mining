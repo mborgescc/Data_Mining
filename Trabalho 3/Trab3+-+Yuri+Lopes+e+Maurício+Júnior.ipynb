{
 "cells": [
  {
   "cell_type": "markdown",
   "metadata": {
    "deletable": true,
    "editable": true
   },
   "source": [
    "<header style=\"text-align: center;\">\n",
    "    <h1 style=\"font-variant: small-caps; padding-bottom: .5em;\">\n",
    "        Trabalho 3 - Yuri Lopes e Maurício Júnior\n",
    "    </h1>\n",
    "</header>\n",
    "<!-- Endliche Differenzmethode -->"
   ]
  },
  {
   "cell_type": "code",
   "execution_count": 1,
   "metadata": {
    "collapsed": false,
    "deletable": true,
    "editable": true
   },
   "outputs": [],
   "source": [
    "# Fonte: http://scikit-learn.org/stable/auto_examples/classification/plot_digits_classification.html\n",
    "\n",
    "# Standard scientific Python imports\n",
    "import matplotlib.pyplot as plt\n",
    "\n",
    "# Import datasets and performance metrics\n",
    "from sklearn import datasets, metrics\n",
    "from sklearn.metrics import accuracy_score\n",
    "from sklearn.datasets import fetch_mldata\n",
    "\n",
    "mnist = fetch_mldata(\"MNIST original\")\n",
    "# rescale the data, use the traditional train/test split\n",
    "X, y = mnist.data / 255., mnist.target\n",
    "X_train, X_test = X[:60000], X[60000:]\n",
    "y_train, y_test = y[:60000], y[60000:]\n",
    "\n",
    "class Report:\n",
    "    \n",
    "    @staticmethod\n",
    "    def run(classifier, clfname):\n",
    "        print(clfname)\n",
    "        # We learn the digits on the first half of the digits\n",
    "        classifier.fit(X_train, y_train)\n",
    "\n",
    "        # Now predict the value of the digit on the second half:\n",
    "        expected = y_test\n",
    "        predicted = classifier.predict(X_test)\n",
    "\n",
    "        accuracy = accuracy_score(predicted, expected)\n",
    "        \n",
    "        print(\"Confusion matrix:\\n%s\" % metrics.confusion_matrix(expected, predicted))\n",
    "        print(\"\\nAccuracy: %s\" % accuracy)"
   ]
  },
  {
   "cell_type": "code",
   "execution_count": null,
   "metadata": {
    "collapsed": false
   },
   "outputs": [
    {
     "name": "stdout",
     "output_type": "stream",
     "text": [
      "SVM\n"
     ]
    }
   ],
   "source": [
    "# Import classifier\n",
    "from sklearn import svm\n",
    "\n",
    "classifier = svm.SVC(gamma=0.001)\n",
    "Report.run(classifier, \"SVM\")"
   ]
  },
  {
   "cell_type": "code",
   "execution_count": 12,
   "metadata": {
    "collapsed": false,
    "deletable": true,
    "editable": true
   },
   "outputs": [
    {
     "name": "stdout",
     "output_type": "stream",
     "text": [
      "Neural Network\n",
      "Confusion matrix:\n",
      "[[ 963    0    1    0    3    5    3    1    2    2]\n",
      " [   0 1127    3    1    0    0    1    1    2    0]\n",
      " [   3    4 1006    1    5    2    3    4    4    0]\n",
      " [   1    4   16  956    1   18    0    3    6    5]\n",
      " [   1    1    4    1  964    0    3    0    0    8]\n",
      " [   4    1    1    4    3  863    8    2    5    1]\n",
      " [   8    3    2    1    3    3  937    0    1    0]\n",
      " [   2   11   11    2    2    1    0  984    4   11]\n",
      " [   8    2    6    3    3    6    2    2  942    0]\n",
      " [   2    5    0    4   12    5    0    5    8  968]]\n",
      "\n",
      "Accuracy: 0.971\n"
     ]
    },
    {
     "name": "stderr",
     "output_type": "stream",
     "text": [
      "C:\\Users\\Yuri\\Anaconda3\\lib\\site-packages\\sklearn\\neural_network\\multilayer_perceptron.py:563: ConvergenceWarning: Stochastic Optimizer: Maximum iterations reached and the optimization hasn't converged yet.\n",
      "  % (), ConvergenceWarning)\n"
     ]
    }
   ],
   "source": [
    "# Import classifier\n",
    "from sklearn.neural_network import MLPClassifier\n",
    "\n",
    "classifier = MLPClassifier(hidden_layer_sizes=(50,), max_iter=40, alpha=1e-4,\n",
    "                    solver='sgd', tol=1e-4, random_state=1,\n",
    "                    learning_rate_init=.1)\n",
    "Report.run(classifier, \"Neural Network\")"
   ]
  },
  {
   "cell_type": "code",
   "execution_count": null,
   "metadata": {
    "collapsed": false,
    "deletable": true,
    "editable": true
   },
   "outputs": [
    {
     "name": "stdout",
     "output_type": "stream",
     "text": [
      "Decision Tree\n"
     ]
    }
   ],
   "source": [
    "# Import classifier\n",
    "from sklearn.tree import DecisionTreeClassifier\n",
    "\n",
    "classifier = DecisionTreeClassifier()\n",
    "Report.run(classifier, \"Decision Tree\")"
   ]
  },
  {
   "cell_type": "markdown",
   "metadata": {
    "deletable": true,
    "editable": true
   },
   "source": [
    "### Discussão dos Resultados\n",
    "O classificador SVM apresentou melhores resultados em acurácia que os outros dois outros classificadores.\n",
    "\n",
    "O classificador de redes neurais obteve resultado competitivo com SVM e, provavelmente ajustando parâmetros dos dois classificadores poder-se-ia obter resultados ainda melhores. O mesmo vale para árvore de decisão em termos de obter melhores resultados, embora sua acurácia não tenha sido competitiva em relação aos outros dois.\n",
    "\n",
    "Em particular, a árvore de decisão obteve o pior resultado, mas é importante lembrar que esse método é mais rápido, fácil de treinar e interpretar os resultados que redes neurais e SVM. Adaptar a árvore de decisão de maneira incremental ou para novos dados é simples e rápido, já fazer isso para redes neurais pode não trazer bons resultados e talvez exigir mudanças na topologia da rede. Em relação ao SVM, o consumo de memória e tempo de execução do SVM pode crescer muito em relação à árvore de decisão."
   ]
  },
  {
   "cell_type": "code",
   "execution_count": null,
   "metadata": {
    "collapsed": true,
    "deletable": true,
    "editable": true
   },
   "outputs": [],
   "source": []
  }
 ],
 "metadata": {
  "kernelspec": {
   "display_name": "Python 3",
   "language": "python",
   "name": "python3"
  },
  "language_info": {
   "codemirror_mode": {
    "name": "ipython",
    "version": 3
   },
   "file_extension": ".py",
   "mimetype": "text/x-python",
   "name": "python",
   "nbconvert_exporter": "python",
   "pygments_lexer": "ipython3",
   "version": "3.6.0"
  }
 },
 "nbformat": 4,
 "nbformat_minor": 2
}
