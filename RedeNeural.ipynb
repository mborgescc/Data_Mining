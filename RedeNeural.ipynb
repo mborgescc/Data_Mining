{
 "cells": [
  {
   "cell_type": "code",
   "execution_count": 122,
   "metadata": {
    "collapsed": false
   },
   "outputs": [],
   "source": [
    "import numpy as np\n",
    "\n",
    "class NeuralNetwork:\n",
    "    def __init__(self, eta, numrounds, hidden_nodes):\n",
    "        self.numrounds = numrounds\n",
    "        '''\n",
    "        fit roda até que numrounds\n",
    "        seja alcançado\n",
    "        '''\n",
    "        \n",
    "        self.eta = eta #learning rate\n",
    "        self.hidden_nodes = hidden_nodes\n",
    "        '''\n",
    "        Quantidade de nós no hidden layer\n",
    "        '''\n",
    "        \n",
    "    def fit(self, X, y):\n",
    "        cols = len(X[0])\n",
    "        syn0 = 2*np.random.random((cols, self.hidden_nodes)) - 1  # 3x4 matrix of weights ((2 inputs + 1 bias) x 4 nodes in the hidden layer)\n",
    "        syn1 = 2*np.random.random((self.hidden_nodes,1)) - 1  # 4x1 matrix of weights. (4 nodes x 1 output) - no bias term in the hidden layer.\n",
    "        \n",
    "        for i in xrange(self.numrounds):\n",
    "            l0 = X\n",
    "            l1 = self.logistic(np.dot(l0, syn0))\n",
    "            l2 = self.logistic(np.dot(l1, syn1))\n",
    "\n",
    "            l2_error = (y - l2)**2\n",
    "            l2_delta = -l2_error*self.logistic(np.dot(l1, syn1), True)\n",
    "            l1_error = l2_delta.dot(syn1.T)\n",
    "            l1_delta = l1_error*self.logistic(np.dot(l0, syn0), True)\n",
    "\n",
    "            syn1 -= self.eta*l1.T.dot(l2_delta)\n",
    "            syn0 -= self.eta*l0.T.dot(l1_delta)\n",
    "        \n",
    "        print(\"Output after training\")\n",
    "        print(l2)\n",
    "        \n",
    "        #fit não deve possuir retorno.\n",
    "        '''\n",
    "        o fit deve descobrir a dimensão do problema\n",
    "        e o número de classes.\n",
    "        '''\n",
    "                \n",
    "    def predict(self, X):\n",
    "        pass\n",
    "        #predict deve retornar as classes para X\n",
    "        \n",
    "    def logistic(self, x, deriv=False):  # Note: there is a typo on this line in the video\n",
    "        if(deriv==True):\n",
    "            return self.logistic(x)*(1-self.logistic(x))\n",
    "\n",
    "        return 1/(1+np.exp(-x))  # Note: there is a typo on this line in the video\n"
   ]
  },
  {
   "cell_type": "code",
   "execution_count": 123,
   "metadata": {
    "collapsed": false
   },
   "outputs": [],
   "source": [
    "X = np.array([[0,0,1],  \n",
    "            [0,1,1],\n",
    "            [1,0,1],\n",
    "            [1,1,1]])\n",
    "\n",
    "\n",
    "# The output of the exclusive OR function follows. \n",
    "\n",
    "#output data\n",
    "y = np.array([[0],\n",
    "             [1],\n",
    "             [1],\n",
    "             [0]])"
   ]
  },
  {
   "cell_type": "code",
   "execution_count": 124,
   "metadata": {
    "collapsed": true
   },
   "outputs": [],
   "source": [
    "nn = NeuralNetwork(0.01, 120000, 4)"
   ]
  },
  {
   "cell_type": "code",
   "execution_count": 125,
   "metadata": {
    "collapsed": false
   },
   "outputs": [
    {
     "name": "stdout",
     "output_type": "stream",
     "text": [
      "Output after training\n",
      "[[ 0.99980021]\n",
      " [ 0.99992768]\n",
      " [ 0.99983582]\n",
      " [ 0.99992765]]\n"
     ]
    }
   ],
   "source": [
    "nn.fit(X, y)"
   ]
  },
  {
   "cell_type": "code",
   "execution_count": null,
   "metadata": {
    "collapsed": true
   },
   "outputs": [],
   "source": []
  }
 ],
 "metadata": {
  "kernelspec": {
   "display_name": "Python 2",
   "language": "python",
   "name": "python2"
  },
  "language_info": {
   "codemirror_mode": {
    "name": "ipython",
    "version": 2
   },
   "file_extension": ".py",
   "mimetype": "text/x-python",
   "name": "python",
   "nbconvert_exporter": "python",
   "pygments_lexer": "ipython2",
   "version": "2.7.13"
  }
 },
 "nbformat": 4,
 "nbformat_minor": 2
}
